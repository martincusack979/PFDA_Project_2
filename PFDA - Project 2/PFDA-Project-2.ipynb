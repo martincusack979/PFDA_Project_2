{
 "cells": [
  {
   "cell_type": "markdown",
   "id": "fd2b5608",
   "metadata": {},
   "source": [
    "## Programming for Data Analysis - Project 2\n",
    "***"
   ]
  },
  {
   "cell_type": "markdown",
   "id": "6498a03e",
   "metadata": {},
   "source": [
    "#### Martin Cusack        \n",
    "\n",
    "#### G00239124\n",
    "***\n"
   ]
  },
  {
   "cell_type": "markdown",
   "id": "f6a0900d",
   "metadata": {},
   "source": [
    "### Introduction\n",
    "***"
   ]
  },
  {
   "cell_type": "markdown",
   "id": "4415e07a",
   "metadata": {},
   "source": [
    "In this notebook, I will conduct analysis and investigation of a data set sourced from the UC Irvine Machine Learning Repository, containing data on breast cancer samples gathered by a team at the University of Wisconsin Hospitals and Clinics. The features of the data set are calculated from a fine needle aspirate (FNA) of a breast mass and describe characteristics of the relevant cell nuclei. Using this data set, I will train a number of machine learning algorithms to assess their accuracy in determining the class of each sample.  I will also carry out a literature review focusing on some of the machine learning research around this particlar data set and comparing the results documented in various academic papers to my own findings."
   ]
  },
  {
   "cell_type": "code",
   "execution_count": 1,
   "id": "a465951b",
   "metadata": {},
   "outputs": [],
   "source": [
    "# import Python libraries\n",
    "import numpy as np\n",
    "import pandas as pd\n",
    "import matplotlib.pyplot as plt\n",
    "import seaborn as sns\n",
    "import sklearn.neighbors as nei\n",
    "import sklearn.model_selection as mod\n",
    "from sklearn.model_selection import train_test_split"
   ]
  },
  {
   "cell_type": "markdown",
   "id": "61bb94ce",
   "metadata": {},
   "source": [
    "### Summary Statistics\n",
    "***"
   ]
  },
  {
   "cell_type": "markdown",
   "id": "7a7ffcdb",
   "metadata": {},
   "source": [
    "In the following cells, I will summarise the Breast Cancer Wisconsin (Original) Data Set using some basic Pandas functions to gain a keener insight into the shape and size of the data. It will also be useful to determine whether there are any anomalous features in the data, such as null values, which may affect any calculations later in the project.\n",
    "\n",
    "I sourced the Wisconsin Original data set from [Kaggle](https://www.kaggle.com/datasets/mariolisboa/breast-cancer-wisconsin-original-data-set)"
   ]
  },
  {
   "cell_type": "code",
   "execution_count": 20,
   "id": "74b5b1d9",
   "metadata": {},
   "outputs": [
    {
     "data": {
      "text/html": [
       "<div>\n",
       "<style scoped>\n",
       "    .dataframe tbody tr th:only-of-type {\n",
       "        vertical-align: middle;\n",
       "    }\n",
       "\n",
       "    .dataframe tbody tr th {\n",
       "        vertical-align: top;\n",
       "    }\n",
       "\n",
       "    .dataframe thead th {\n",
       "        text-align: right;\n",
       "    }\n",
       "</style>\n",
       "<table border=\"1\" class=\"dataframe\">\n",
       "  <thead>\n",
       "    <tr style=\"text-align: right;\">\n",
       "      <th></th>\n",
       "      <th>Sample code number</th>\n",
       "      <th>Clump Thickness</th>\n",
       "      <th>Uniformity of Cell Size</th>\n",
       "      <th>Uniformity of Cell Shape</th>\n",
       "      <th>Marginal Adhesion</th>\n",
       "      <th>Single Epithelial Cell Size</th>\n",
       "      <th>Bare Nuclei</th>\n",
       "      <th>Bland Chromatin</th>\n",
       "      <th>Normal Nucleoli</th>\n",
       "      <th>Mitoses</th>\n",
       "      <th>Class</th>\n",
       "    </tr>\n",
       "  </thead>\n",
       "  <tbody>\n",
       "    <tr>\n",
       "      <th>0</th>\n",
       "      <td>1000025</td>\n",
       "      <td>5</td>\n",
       "      <td>1</td>\n",
       "      <td>1</td>\n",
       "      <td>1</td>\n",
       "      <td>2</td>\n",
       "      <td>1.0</td>\n",
       "      <td>3</td>\n",
       "      <td>1</td>\n",
       "      <td>1</td>\n",
       "      <td>2</td>\n",
       "    </tr>\n",
       "    <tr>\n",
       "      <th>1</th>\n",
       "      <td>1002945</td>\n",
       "      <td>5</td>\n",
       "      <td>4</td>\n",
       "      <td>4</td>\n",
       "      <td>5</td>\n",
       "      <td>7</td>\n",
       "      <td>10.0</td>\n",
       "      <td>3</td>\n",
       "      <td>2</td>\n",
       "      <td>1</td>\n",
       "      <td>2</td>\n",
       "    </tr>\n",
       "    <tr>\n",
       "      <th>2</th>\n",
       "      <td>1015425</td>\n",
       "      <td>3</td>\n",
       "      <td>1</td>\n",
       "      <td>1</td>\n",
       "      <td>1</td>\n",
       "      <td>2</td>\n",
       "      <td>2.0</td>\n",
       "      <td>3</td>\n",
       "      <td>1</td>\n",
       "      <td>1</td>\n",
       "      <td>2</td>\n",
       "    </tr>\n",
       "    <tr>\n",
       "      <th>3</th>\n",
       "      <td>1016277</td>\n",
       "      <td>6</td>\n",
       "      <td>8</td>\n",
       "      <td>8</td>\n",
       "      <td>1</td>\n",
       "      <td>3</td>\n",
       "      <td>4.0</td>\n",
       "      <td>3</td>\n",
       "      <td>7</td>\n",
       "      <td>1</td>\n",
       "      <td>2</td>\n",
       "    </tr>\n",
       "    <tr>\n",
       "      <th>4</th>\n",
       "      <td>1017023</td>\n",
       "      <td>4</td>\n",
       "      <td>1</td>\n",
       "      <td>1</td>\n",
       "      <td>3</td>\n",
       "      <td>2</td>\n",
       "      <td>1.0</td>\n",
       "      <td>3</td>\n",
       "      <td>1</td>\n",
       "      <td>1</td>\n",
       "      <td>2</td>\n",
       "    </tr>\n",
       "    <tr>\n",
       "      <th>...</th>\n",
       "      <td>...</td>\n",
       "      <td>...</td>\n",
       "      <td>...</td>\n",
       "      <td>...</td>\n",
       "      <td>...</td>\n",
       "      <td>...</td>\n",
       "      <td>...</td>\n",
       "      <td>...</td>\n",
       "      <td>...</td>\n",
       "      <td>...</td>\n",
       "      <td>...</td>\n",
       "    </tr>\n",
       "    <tr>\n",
       "      <th>694</th>\n",
       "      <td>776715</td>\n",
       "      <td>3</td>\n",
       "      <td>1</td>\n",
       "      <td>1</td>\n",
       "      <td>1</td>\n",
       "      <td>3</td>\n",
       "      <td>2.0</td>\n",
       "      <td>1</td>\n",
       "      <td>1</td>\n",
       "      <td>1</td>\n",
       "      <td>2</td>\n",
       "    </tr>\n",
       "    <tr>\n",
       "      <th>695</th>\n",
       "      <td>841769</td>\n",
       "      <td>2</td>\n",
       "      <td>1</td>\n",
       "      <td>1</td>\n",
       "      <td>1</td>\n",
       "      <td>2</td>\n",
       "      <td>1.0</td>\n",
       "      <td>1</td>\n",
       "      <td>1</td>\n",
       "      <td>1</td>\n",
       "      <td>2</td>\n",
       "    </tr>\n",
       "    <tr>\n",
       "      <th>696</th>\n",
       "      <td>888820</td>\n",
       "      <td>5</td>\n",
       "      <td>10</td>\n",
       "      <td>10</td>\n",
       "      <td>3</td>\n",
       "      <td>7</td>\n",
       "      <td>3.0</td>\n",
       "      <td>8</td>\n",
       "      <td>10</td>\n",
       "      <td>2</td>\n",
       "      <td>4</td>\n",
       "    </tr>\n",
       "    <tr>\n",
       "      <th>697</th>\n",
       "      <td>897471</td>\n",
       "      <td>4</td>\n",
       "      <td>8</td>\n",
       "      <td>6</td>\n",
       "      <td>4</td>\n",
       "      <td>3</td>\n",
       "      <td>4.0</td>\n",
       "      <td>10</td>\n",
       "      <td>6</td>\n",
       "      <td>1</td>\n",
       "      <td>4</td>\n",
       "    </tr>\n",
       "    <tr>\n",
       "      <th>698</th>\n",
       "      <td>897471</td>\n",
       "      <td>4</td>\n",
       "      <td>8</td>\n",
       "      <td>8</td>\n",
       "      <td>5</td>\n",
       "      <td>4</td>\n",
       "      <td>5.0</td>\n",
       "      <td>10</td>\n",
       "      <td>4</td>\n",
       "      <td>1</td>\n",
       "      <td>4</td>\n",
       "    </tr>\n",
       "  </tbody>\n",
       "</table>\n",
       "<p>699 rows × 11 columns</p>\n",
       "</div>"
      ],
      "text/plain": [
       "     Sample code number  Clump Thickness  Uniformity of Cell Size  \\\n",
       "0               1000025                5                        1   \n",
       "1               1002945                5                        4   \n",
       "2               1015425                3                        1   \n",
       "3               1016277                6                        8   \n",
       "4               1017023                4                        1   \n",
       "..                  ...              ...                      ...   \n",
       "694              776715                3                        1   \n",
       "695              841769                2                        1   \n",
       "696              888820                5                       10   \n",
       "697              897471                4                        8   \n",
       "698              897471                4                        8   \n",
       "\n",
       "     Uniformity of Cell Shape  Marginal Adhesion  Single Epithelial Cell Size  \\\n",
       "0                           1                  1                            2   \n",
       "1                           4                  5                            7   \n",
       "2                           1                  1                            2   \n",
       "3                           8                  1                            3   \n",
       "4                           1                  3                            2   \n",
       "..                        ...                ...                          ...   \n",
       "694                         1                  1                            3   \n",
       "695                         1                  1                            2   \n",
       "696                        10                  3                            7   \n",
       "697                         6                  4                            3   \n",
       "698                         8                  5                            4   \n",
       "\n",
       "     Bare Nuclei  Bland Chromatin  Normal Nucleoli  Mitoses  Class  \n",
       "0            1.0                3                1        1      2  \n",
       "1           10.0                3                2        1      2  \n",
       "2            2.0                3                1        1      2  \n",
       "3            4.0                3                7        1      2  \n",
       "4            1.0                3                1        1      2  \n",
       "..           ...              ...              ...      ...    ...  \n",
       "694          2.0                1                1        1      2  \n",
       "695          1.0                1                1        1      2  \n",
       "696          3.0                8               10        2      4  \n",
       "697          4.0               10                6        1      4  \n",
       "698          5.0               10                4        1      4  \n",
       "\n",
       "[699 rows x 11 columns]"
      ]
     },
     "execution_count": 20,
     "metadata": {},
     "output_type": "execute_result"
    }
   ],
   "source": [
    "# import Breast Cancer Wisconsin (Original) Data Set into a pandas data frame\n",
    "\n",
    "df=pd.read_csv('https://raw.githubusercontent.com/martincusack979/PFDA_Project_2/main/PFDA%20-%20Project%202/Data/breast_cancer_bd.csv')\n",
    "df"
   ]
  },
  {
   "cell_type": "code",
   "execution_count": 21,
   "id": "8fc5ed35",
   "metadata": {},
   "outputs": [
    {
     "data": {
      "text/plain": [
       "(699, 11)"
      ]
     },
     "execution_count": 21,
     "metadata": {},
     "output_type": "execute_result"
    }
   ],
   "source": [
    "# summary statistics - display number of rows and columns\n",
    "df.shape"
   ]
  },
  {
   "cell_type": "code",
   "execution_count": 22,
   "id": "d17c5223",
   "metadata": {},
   "outputs": [
    {
     "data": {
      "text/html": [
       "<div>\n",
       "<style scoped>\n",
       "    .dataframe tbody tr th:only-of-type {\n",
       "        vertical-align: middle;\n",
       "    }\n",
       "\n",
       "    .dataframe tbody tr th {\n",
       "        vertical-align: top;\n",
       "    }\n",
       "\n",
       "    .dataframe thead th {\n",
       "        text-align: right;\n",
       "    }\n",
       "</style>\n",
       "<table border=\"1\" class=\"dataframe\">\n",
       "  <thead>\n",
       "    <tr style=\"text-align: right;\">\n",
       "      <th></th>\n",
       "      <th>Sample code number</th>\n",
       "      <th>Clump Thickness</th>\n",
       "      <th>Uniformity of Cell Size</th>\n",
       "      <th>Uniformity of Cell Shape</th>\n",
       "      <th>Marginal Adhesion</th>\n",
       "      <th>Single Epithelial Cell Size</th>\n",
       "      <th>Bare Nuclei</th>\n",
       "      <th>Bland Chromatin</th>\n",
       "      <th>Normal Nucleoli</th>\n",
       "      <th>Mitoses</th>\n",
       "      <th>Class</th>\n",
       "    </tr>\n",
       "  </thead>\n",
       "  <tbody>\n",
       "    <tr>\n",
       "      <th>0</th>\n",
       "      <td>1000025</td>\n",
       "      <td>5</td>\n",
       "      <td>1</td>\n",
       "      <td>1</td>\n",
       "      <td>1</td>\n",
       "      <td>2</td>\n",
       "      <td>1.0</td>\n",
       "      <td>3</td>\n",
       "      <td>1</td>\n",
       "      <td>1</td>\n",
       "      <td>2</td>\n",
       "    </tr>\n",
       "    <tr>\n",
       "      <th>1</th>\n",
       "      <td>1002945</td>\n",
       "      <td>5</td>\n",
       "      <td>4</td>\n",
       "      <td>4</td>\n",
       "      <td>5</td>\n",
       "      <td>7</td>\n",
       "      <td>10.0</td>\n",
       "      <td>3</td>\n",
       "      <td>2</td>\n",
       "      <td>1</td>\n",
       "      <td>2</td>\n",
       "    </tr>\n",
       "    <tr>\n",
       "      <th>2</th>\n",
       "      <td>1015425</td>\n",
       "      <td>3</td>\n",
       "      <td>1</td>\n",
       "      <td>1</td>\n",
       "      <td>1</td>\n",
       "      <td>2</td>\n",
       "      <td>2.0</td>\n",
       "      <td>3</td>\n",
       "      <td>1</td>\n",
       "      <td>1</td>\n",
       "      <td>2</td>\n",
       "    </tr>\n",
       "    <tr>\n",
       "      <th>3</th>\n",
       "      <td>1016277</td>\n",
       "      <td>6</td>\n",
       "      <td>8</td>\n",
       "      <td>8</td>\n",
       "      <td>1</td>\n",
       "      <td>3</td>\n",
       "      <td>4.0</td>\n",
       "      <td>3</td>\n",
       "      <td>7</td>\n",
       "      <td>1</td>\n",
       "      <td>2</td>\n",
       "    </tr>\n",
       "    <tr>\n",
       "      <th>4</th>\n",
       "      <td>1017023</td>\n",
       "      <td>4</td>\n",
       "      <td>1</td>\n",
       "      <td>1</td>\n",
       "      <td>3</td>\n",
       "      <td>2</td>\n",
       "      <td>1.0</td>\n",
       "      <td>3</td>\n",
       "      <td>1</td>\n",
       "      <td>1</td>\n",
       "      <td>2</td>\n",
       "    </tr>\n",
       "  </tbody>\n",
       "</table>\n",
       "</div>"
      ],
      "text/plain": [
       "   Sample code number  Clump Thickness  Uniformity of Cell Size  \\\n",
       "0             1000025                5                        1   \n",
       "1             1002945                5                        4   \n",
       "2             1015425                3                        1   \n",
       "3             1016277                6                        8   \n",
       "4             1017023                4                        1   \n",
       "\n",
       "   Uniformity of Cell Shape  Marginal Adhesion  Single Epithelial Cell Size  \\\n",
       "0                         1                  1                            2   \n",
       "1                         4                  5                            7   \n",
       "2                         1                  1                            2   \n",
       "3                         8                  1                            3   \n",
       "4                         1                  3                            2   \n",
       "\n",
       "   Bare Nuclei  Bland Chromatin  Normal Nucleoli  Mitoses  Class  \n",
       "0          1.0                3                1        1      2  \n",
       "1         10.0                3                2        1      2  \n",
       "2          2.0                3                1        1      2  \n",
       "3          4.0                3                7        1      2  \n",
       "4          1.0                3                1        1      2  "
      ]
     },
     "execution_count": 22,
     "metadata": {},
     "output_type": "execute_result"
    }
   ],
   "source": [
    "# summary statistics - show first 5 rows\n",
    "df.head()"
   ]
  },
  {
   "cell_type": "code",
   "execution_count": 23,
   "id": "13622944",
   "metadata": {},
   "outputs": [
    {
     "data": {
      "text/html": [
       "<div>\n",
       "<style scoped>\n",
       "    .dataframe tbody tr th:only-of-type {\n",
       "        vertical-align: middle;\n",
       "    }\n",
       "\n",
       "    .dataframe tbody tr th {\n",
       "        vertical-align: top;\n",
       "    }\n",
       "\n",
       "    .dataframe thead th {\n",
       "        text-align: right;\n",
       "    }\n",
       "</style>\n",
       "<table border=\"1\" class=\"dataframe\">\n",
       "  <thead>\n",
       "    <tr style=\"text-align: right;\">\n",
       "      <th></th>\n",
       "      <th>Sample code number</th>\n",
       "      <th>Clump Thickness</th>\n",
       "      <th>Uniformity of Cell Size</th>\n",
       "      <th>Uniformity of Cell Shape</th>\n",
       "      <th>Marginal Adhesion</th>\n",
       "      <th>Single Epithelial Cell Size</th>\n",
       "      <th>Bare Nuclei</th>\n",
       "      <th>Bland Chromatin</th>\n",
       "      <th>Normal Nucleoli</th>\n",
       "      <th>Mitoses</th>\n",
       "      <th>Class</th>\n",
       "    </tr>\n",
       "  </thead>\n",
       "  <tbody>\n",
       "    <tr>\n",
       "      <th>count</th>\n",
       "      <td>6.990000e+02</td>\n",
       "      <td>699.000000</td>\n",
       "      <td>699.000000</td>\n",
       "      <td>699.000000</td>\n",
       "      <td>699.000000</td>\n",
       "      <td>699.000000</td>\n",
       "      <td>683.000000</td>\n",
       "      <td>699.000000</td>\n",
       "      <td>699.000000</td>\n",
       "      <td>699.000000</td>\n",
       "      <td>699.000000</td>\n",
       "    </tr>\n",
       "    <tr>\n",
       "      <th>mean</th>\n",
       "      <td>1.071704e+06</td>\n",
       "      <td>4.417740</td>\n",
       "      <td>3.134478</td>\n",
       "      <td>3.207439</td>\n",
       "      <td>2.806867</td>\n",
       "      <td>3.216023</td>\n",
       "      <td>3.544656</td>\n",
       "      <td>3.437768</td>\n",
       "      <td>2.866953</td>\n",
       "      <td>1.589413</td>\n",
       "      <td>2.689557</td>\n",
       "    </tr>\n",
       "    <tr>\n",
       "      <th>std</th>\n",
       "      <td>6.170957e+05</td>\n",
       "      <td>2.815741</td>\n",
       "      <td>3.051459</td>\n",
       "      <td>2.971913</td>\n",
       "      <td>2.855379</td>\n",
       "      <td>2.214300</td>\n",
       "      <td>3.643857</td>\n",
       "      <td>2.438364</td>\n",
       "      <td>3.053634</td>\n",
       "      <td>1.715078</td>\n",
       "      <td>0.951273</td>\n",
       "    </tr>\n",
       "    <tr>\n",
       "      <th>min</th>\n",
       "      <td>6.163400e+04</td>\n",
       "      <td>1.000000</td>\n",
       "      <td>1.000000</td>\n",
       "      <td>1.000000</td>\n",
       "      <td>1.000000</td>\n",
       "      <td>1.000000</td>\n",
       "      <td>1.000000</td>\n",
       "      <td>1.000000</td>\n",
       "      <td>1.000000</td>\n",
       "      <td>1.000000</td>\n",
       "      <td>2.000000</td>\n",
       "    </tr>\n",
       "    <tr>\n",
       "      <th>25%</th>\n",
       "      <td>8.706885e+05</td>\n",
       "      <td>2.000000</td>\n",
       "      <td>1.000000</td>\n",
       "      <td>1.000000</td>\n",
       "      <td>1.000000</td>\n",
       "      <td>2.000000</td>\n",
       "      <td>1.000000</td>\n",
       "      <td>2.000000</td>\n",
       "      <td>1.000000</td>\n",
       "      <td>1.000000</td>\n",
       "      <td>2.000000</td>\n",
       "    </tr>\n",
       "    <tr>\n",
       "      <th>50%</th>\n",
       "      <td>1.171710e+06</td>\n",
       "      <td>4.000000</td>\n",
       "      <td>1.000000</td>\n",
       "      <td>1.000000</td>\n",
       "      <td>1.000000</td>\n",
       "      <td>2.000000</td>\n",
       "      <td>1.000000</td>\n",
       "      <td>3.000000</td>\n",
       "      <td>1.000000</td>\n",
       "      <td>1.000000</td>\n",
       "      <td>2.000000</td>\n",
       "    </tr>\n",
       "    <tr>\n",
       "      <th>75%</th>\n",
       "      <td>1.238298e+06</td>\n",
       "      <td>6.000000</td>\n",
       "      <td>5.000000</td>\n",
       "      <td>5.000000</td>\n",
       "      <td>4.000000</td>\n",
       "      <td>4.000000</td>\n",
       "      <td>6.000000</td>\n",
       "      <td>5.000000</td>\n",
       "      <td>4.000000</td>\n",
       "      <td>1.000000</td>\n",
       "      <td>4.000000</td>\n",
       "    </tr>\n",
       "    <tr>\n",
       "      <th>max</th>\n",
       "      <td>1.345435e+07</td>\n",
       "      <td>10.000000</td>\n",
       "      <td>10.000000</td>\n",
       "      <td>10.000000</td>\n",
       "      <td>10.000000</td>\n",
       "      <td>10.000000</td>\n",
       "      <td>10.000000</td>\n",
       "      <td>10.000000</td>\n",
       "      <td>10.000000</td>\n",
       "      <td>10.000000</td>\n",
       "      <td>4.000000</td>\n",
       "    </tr>\n",
       "  </tbody>\n",
       "</table>\n",
       "</div>"
      ],
      "text/plain": [
       "       Sample code number  Clump Thickness  Uniformity of Cell Size  \\\n",
       "count        6.990000e+02       699.000000               699.000000   \n",
       "mean         1.071704e+06         4.417740                 3.134478   \n",
       "std          6.170957e+05         2.815741                 3.051459   \n",
       "min          6.163400e+04         1.000000                 1.000000   \n",
       "25%          8.706885e+05         2.000000                 1.000000   \n",
       "50%          1.171710e+06         4.000000                 1.000000   \n",
       "75%          1.238298e+06         6.000000                 5.000000   \n",
       "max          1.345435e+07        10.000000                10.000000   \n",
       "\n",
       "       Uniformity of Cell Shape  Marginal Adhesion  \\\n",
       "count                699.000000         699.000000   \n",
       "mean                   3.207439           2.806867   \n",
       "std                    2.971913           2.855379   \n",
       "min                    1.000000           1.000000   \n",
       "25%                    1.000000           1.000000   \n",
       "50%                    1.000000           1.000000   \n",
       "75%                    5.000000           4.000000   \n",
       "max                   10.000000          10.000000   \n",
       "\n",
       "       Single Epithelial Cell Size  Bare Nuclei  Bland Chromatin  \\\n",
       "count                   699.000000   683.000000       699.000000   \n",
       "mean                      3.216023     3.544656         3.437768   \n",
       "std                       2.214300     3.643857         2.438364   \n",
       "min                       1.000000     1.000000         1.000000   \n",
       "25%                       2.000000     1.000000         2.000000   \n",
       "50%                       2.000000     1.000000         3.000000   \n",
       "75%                       4.000000     6.000000         5.000000   \n",
       "max                      10.000000    10.000000        10.000000   \n",
       "\n",
       "       Normal Nucleoli     Mitoses       Class  \n",
       "count       699.000000  699.000000  699.000000  \n",
       "mean          2.866953    1.589413    2.689557  \n",
       "std           3.053634    1.715078    0.951273  \n",
       "min           1.000000    1.000000    2.000000  \n",
       "25%           1.000000    1.000000    2.000000  \n",
       "50%           1.000000    1.000000    2.000000  \n",
       "75%           4.000000    1.000000    4.000000  \n",
       "max          10.000000   10.000000    4.000000  "
      ]
     },
     "execution_count": 23,
     "metadata": {},
     "output_type": "execute_result"
    }
   ],
   "source": [
    "## summary statistics - describe\n",
    "df.describe()"
   ]
  },
  {
   "cell_type": "code",
   "execution_count": 24,
   "id": "cb7f277a",
   "metadata": {},
   "outputs": [
    {
     "name": "stdout",
     "output_type": "stream",
     "text": [
      "2    458\n",
      "4    241\n",
      "Name: Class, dtype: int64\n"
     ]
    }
   ],
   "source": [
    "# show count of attributes in column \"Class\"\n",
    "print(df['Class'].value_counts())"
   ]
  },
  {
   "cell_type": "code",
   "execution_count": 25,
   "id": "3663c4de",
   "metadata": {},
   "outputs": [
    {
     "data": {
      "text/plain": [
       "Sample code number              0\n",
       "Clump Thickness                 0\n",
       "Uniformity of Cell Size         0\n",
       "Uniformity of Cell Shape        0\n",
       "Marginal Adhesion               0\n",
       "Single Epithelial Cell Size     0\n",
       "Bare Nuclei                    16\n",
       "Bland Chromatin                 0\n",
       "Normal Nucleoli                 0\n",
       "Mitoses                         0\n",
       "Class                           0\n",
       "dtype: int64"
      ]
     },
     "execution_count": 25,
     "metadata": {},
     "output_type": "execute_result"
    }
   ],
   "source": [
    "# show number of null values\n",
    "df.isna().sum()"
   ]
  },
  {
   "cell_type": "markdown",
   "id": "155ffa37",
   "metadata": {},
   "source": [
    "As shown above, there are 16 null values in this data set; all 16 are found in the \"Bare Nuclei\" column.  It may be necessary to remove these later in my investigation, as they could affect the classification process when deploying a machine learning algorithm."
   ]
  },
  {
   "cell_type": "markdown",
   "id": "f1350b5d",
   "metadata": {},
   "source": [
    "### Breast Cancer Wisconsin (Original) Data Set\n",
    "***"
   ]
  },
  {
   "cell_type": "markdown",
   "id": "ea4b440d",
   "metadata": {},
   "source": [
    "The Breast Cancer (Original) Data Set was created at the University of Wisconsin Hospitals in Madison, Wisconsin, USA, by a team led by Dr. William Wolberg.  It is a multi-variate data set which is available in two different forms, **Original** and **Diagnostic**.  For the purposes of this project I chose to investigate the Original version.\n",
    "\n",
    "As shown above, the Original Data Set has 699 rows and 11 columns, with 16 missing values.  The first column, **\"Sample code number\"**, is used solely for identification purposes and contains a 6 or 7 digit sample number.  The next 9 columns (\"**Clump Thickness\", \"Uniformity of Cell Size\", \"Uniformity of Cell Shape\", \"Marginal Adhesion\", \"Single Epithelial Cell Size\", \"Bare Nuclei\", \"Bland Chromatin\", \"Normal Nucleoli\", \"Mitoses\")** all refer to different measurements of breast cancer tissue samples and contain integer values ranging from 1 to 10. The final column (\"Class\") separates the samples into either Class 2 (benign) or Class 4 (malignant).  As shown above using the .value_counts() function, the data set includes 458 instances of class 2 and 241 instances of class 4."
   ]
  },
  {
   "cell_type": "markdown",
   "id": "6e6dcd0e",
   "metadata": {},
   "source": [
    "### Visualising the data"
   ]
  },
  {
   "cell_type": "code",
   "execution_count": 26,
   "id": "cf1a0e5a",
   "metadata": {},
   "outputs": [],
   "source": [
    "# remove first column as it does not contain any relevant info\n",
    "df1 = df.drop(columns=['Sample code number'])"
   ]
  },
  {
   "cell_type": "code",
   "execution_count": null,
   "id": "ceefa7ad",
   "metadata": {
    "collapsed": true
   },
   "outputs": [],
   "source": [
    "df1.head()"
   ]
  },
  {
   "cell_type": "markdown",
   "id": "a3a796cb",
   "metadata": {},
   "source": [
    "#### Count plot"
   ]
  },
  {
   "cell_type": "code",
   "execution_count": 27,
   "id": "4dd5320b",
   "metadata": {},
   "outputs": [
    {
     "name": "stderr",
     "output_type": "stream",
     "text": [
      "C:\\Users\\cusac\\anaconda33\\lib\\site-packages\\seaborn\\_decorators.py:36: FutureWarning: Pass the following variable as a keyword arg: x. From version 0.12, the only valid positional argument will be `data`, and passing other arguments without an explicit keyword will result in an error or misinterpretation.\n",
      "  warnings.warn(\n"
     ]
    },
    {
     "data": {
      "text/plain": [
       "<AxesSubplot:xlabel='Class', ylabel='count'>"
      ]
     },
     "execution_count": 27,
     "metadata": {},
     "output_type": "execute_result"
    },
    {
     "data": {
      "image/png": "[encoded data removed]",
      "text/plain": [
       "<Figure size 432x288 with 1 Axes>"
      ]
     },
     "metadata": {
      "needs_background": "light"
     },
     "output_type": "display_data"
    }
   ],
   "source": [
    "# visualise count of benign (2) and malignant (4) samples from column \"Class\"\n",
    "sns.countplot(df1['Class'], label = \"Count\")"
   ]
  },
  {
   "cell_type": "markdown",
   "id": "5cc08c0a",
   "metadata": {},
   "source": [
    "From the above count plot, we can see that the malignant samples in the data set are outnumbered by the benign samples by a factor of almost 2:1."
   ]
  },
  {
   "cell_type": "markdown",
   "id": "6893caf2",
   "metadata": {},
   "source": [
    "#### Histograms"
   ]
  },
  {
   "cell_type": "code",
   "execution_count": 28,
   "id": "29471431",
   "metadata": {},
   "outputs": [
    {
     "data": {
      "text/plain": [
       "<AxesSubplot:xlabel='Clump Thickness', ylabel='Count'>"
      ]
     },
     "execution_count": 28,
     "metadata": {},
     "output_type": "execute_result"
    },
    {
     "data": {
      "image/png": "[encoded data removed]",
      "text/plain": [
       "<Figure size 432x288 with 1 Axes>"
      ]
     },
     "metadata": {
      "needs_background": "light"
     },
     "output_type": "display_data"
    }
   ],
   "source": [
    "# create seaborn histogram of Clump Thickness column\n",
    "sns.histplot(data=df1, x=\"Clump Thickness\")"
   ]
  },
  {
   "cell_type": "code",
   "execution_count": 29,
   "id": "3b99b238",
   "metadata": {},
   "outputs": [
    {
     "data": {
      "text/plain": [
       "<AxesSubplot:xlabel='Uniformity of Cell Size', ylabel='Count'>"
      ]
     },
     "execution_count": 29,
     "metadata": {},
     "output_type": "execute_result"
    },
    {
     "data": {
      "image/png": "[encoded data removed]",
      "text/plain": [
       "<Figure size 432x288 with 1 Axes>"
      ]
     },
     "metadata": {
      "needs_background": "light"
     },
     "output_type": "display_data"
    }
   ],
   "source": [
    "# create seaborn histogram of Uniformity of Cell Size column\n",
    "sns.histplot(data=df1, x=\"Uniformity of Cell Size\")"
   ]
  },
  {
   "cell_type": "code",
   "execution_count": 30,
   "id": "e72761da",
   "metadata": {},
   "outputs": [
    {
     "data": {
      "text/plain": [
       "<AxesSubplot:xlabel='Uniformity of Cell Shape', ylabel='Count'>"
      ]
     },
     "execution_count": 30,
     "metadata": {},
     "output_type": "execute_result"
    },
    {
     "data": {
      "image/png": "[encoded data removed]",
      "text/plain": [
       "<Figure size 432x288 with 1 Axes>"
      ]
     },
     "metadata": {
      "needs_background": "light"
     },
     "output_type": "display_data"
    }
   ],
   "source": [
    "# create seaborn histogram of Uniformity of Cell Shape column\n",
    "sns.histplot(data=df1, x=\"Uniformity of Cell Shape\")"
   ]
  },
  {
   "cell_type": "code",
   "execution_count": 31,
   "id": "e020185b",
   "metadata": {},
   "outputs": [
    {
     "data": {
      "text/plain": [
       "<AxesSubplot:xlabel='Marginal Adhesion', ylabel='Count'>"
      ]
     },
     "execution_count": 31,
     "metadata": {},
     "output_type": "execute_result"
    },
    {
     "data": {
      "image/png": "[encoded data removed]",
      "text/plain": [
       "<Figure size 432x288 with 1 Axes>"
      ]
     },
     "metadata": {
      "needs_background": "light"
     },
     "output_type": "display_data"
    }
   ],
   "source": [
    "# create seaborn histogram of Marginal Adhesion column\n",
    "sns.histplot(data=df1, x=\"Marginal Adhesion\")"
   ]
  },
  {
   "cell_type": "code",
   "execution_count": 32,
   "id": "d0dfbeb2",
   "metadata": {},
   "outputs": [
    {
     "data": {
      "text/plain": [
       "<AxesSubplot:xlabel='Single Epithelial Cell Size', ylabel='Count'>"
      ]
     },
     "execution_count": 32,
     "metadata": {},
     "output_type": "execute_result"
    },
    {
     "data": {
      "image/png": "[encoded data removed]",
      "text/plain": [
       "<Figure size 432x288 with 1 Axes>"
      ]
     },
     "metadata": {
      "needs_background": "light"
     },
     "output_type": "display_data"
    }
   ],
   "source": [
    "# create seaborn histogram of Single Epithelial Cell Size column\n",
    "sns.histplot(data = df1, x = \"Single Epithelial Cell Size\")"
   ]
  },
  {
   "cell_type": "code",
   "execution_count": 33,
   "id": "0a2afaa2",
   "metadata": {},
   "outputs": [
    {
     "data": {
      "text/plain": [
       "<AxesSubplot:xlabel='Bare Nuclei', ylabel='Count'>"
      ]
     },
     "execution_count": 33,
     "metadata": {},
     "output_type": "execute_result"
    },
    {
     "data": {
      "image/png": "[encoded data removed]",
      "text/plain": [
       "<Figure size 432x288 with 1 Axes>"
      ]
     },
     "metadata": {
      "needs_background": "light"
     },
     "output_type": "display_data"
    }
   ],
   "source": [
    "# create seaborn histogram of Bare Nuclei column\n",
    "sns.histplot(data = df1, x = \"Bare Nuclei\")"
   ]
  },
  {
   "cell_type": "code",
   "execution_count": 34,
   "id": "30465799",
   "metadata": {},
   "outputs": [
    {
     "data": {
      "text/plain": [
       "<AxesSubplot:xlabel='Bland Chromatin', ylabel='Count'>"
      ]
     },
     "execution_count": 34,
     "metadata": {},
     "output_type": "execute_result"
    },
    {
     "data": {
      "image/png": "[encoded data removed]",
      "text/plain": [
       "<Figure size 432x288 with 1 Axes>"
      ]
     },
     "metadata": {
      "needs_background": "light"
     },
     "output_type": "display_data"
    }
   ],
   "source": [
    "# create seaborn histogram of Bland Chromatin column\n",
    "sns.histplot(data = df1, x = \"Bland Chromatin\")"
   ]
  },
  {
   "cell_type": "code",
   "execution_count": 35,
   "id": "ffac3acd",
   "metadata": {},
   "outputs": [
    {
     "data": {
      "text/plain": [
       "<AxesSubplot:xlabel='Normal Nucleoli', ylabel='Count'>"
      ]
     },
     "execution_count": 35,
     "metadata": {},
     "output_type": "execute_result"
    },
    {
     "data": {
      "image/png": "[encoded data removed]",
      "text/plain": [
       "<Figure size 432x288 with 1 Axes>"
      ]
     },
     "metadata": {
      "needs_background": "light"
     },
     "output_type": "display_data"
    }
   ],
   "source": [
    "# create seaborn histogram of Normal Nucleoli column\n",
    "sns.histplot(data = df1, x = \"Normal Nucleoli\")"
   ]
  },
  {
   "cell_type": "markdown",
   "id": "fb5d0eb7",
   "metadata": {},
   "source": [
    "#### Scatterplot"
   ]
  },
  {
   "cell_type": "code",
   "execution_count": 36,
   "id": "d2d74db4",
   "metadata": {},
   "outputs": [
    {
     "data": {
      "text/plain": [
       "<AxesSubplot:xlabel='Clump Thickness', ylabel='Single Epithelial Cell Size'>"
      ]
     },
     "execution_count": 36,
     "metadata": {},
     "output_type": "execute_result"
    },
    {
     "data": {
      "image/png": "[encoded data removed]",
      "text/plain": [
       "<Figure size 432x288 with 1 Axes>"
      ]
     },
     "metadata": {
      "needs_background": "light"
     },
     "output_type": "display_data"
    }
   ],
   "source": [
    "# investigate relationship between Clump Thickness and Single Epithelial Cell size with scatterplot\n",
    "sns.scatterplot(x='Clump Thickness',y='Single Epithelial Cell Size', hue='Class', palette= \"deep\", data=df1)"
   ]
  },
  {
   "cell_type": "markdown",
   "id": "e7fdc3fc",
   "metadata": {},
   "source": [
    "As we can see there is a clear relationship between these two columns.  Since malignant tissue samples are larger due to their more aggressize growth rate, we see that the larger data points on the upper right of the plot are all of Class 4 (malignant), with greater clump thickness and cell size."
   ]
  },
  {
   "cell_type": "markdown",
   "id": "7a5a759b",
   "metadata": {},
   "source": [
    "#### Pairplot"
   ]
  },
  {
   "cell_type": "markdown",
   "id": "d4ffc195",
   "metadata": {},
   "source": [
    "Pairplot : I used seaborn's pairplot function to create a grid displaying relationships between the columns **\"Marginal Adhesion\"**, **\"Bland Chromatin\"**, **Bare Nuclei\"** and **\"Normal Nucleoli\"**."
   ]
  },
  {
   "cell_type": "code",
   "execution_count": 37,
   "id": "868c71e0",
   "metadata": {},
   "outputs": [],
   "source": [
    "df2 = df1.drop(columns=['Clump Thickness', 'Mitoses', 'Single Epithelial Cell Size', 'Uniformity of Cell Size', 'Uniformity of Cell Shape'])"
   ]
  },
  {
   "cell_type": "code",
   "execution_count": 38,
   "id": "79c21d6c",
   "metadata": {},
   "outputs": [
    {
     "data": {
      "text/plain": [
       "<seaborn.axisgrid.PairGrid at 0x1f6dfe19a30>"
      ]
     },
     "execution_count": 38,
     "metadata": {},
     "output_type": "execute_result"
    },
    {
     "data": {
      "image/png": "[encoded data removed]",
      "text/plain": [
       "<Figure size 762.375x720 with 20 Axes>"
      ]
     },
     "metadata": {
      "needs_background": "light"
     },
     "output_type": "display_data"
    }
   ],
   "source": [
    "sns.pairplot(df2, hue = 'Class', palette= \"deep\")"
   ]
  },
  {
   "cell_type": "markdown",
   "id": "f577b78c",
   "metadata": {},
   "source": [
    "As we can see again, the Class 4 malignant cells dominate the upper right space of each of the separate scatterplots in the grid, with demonstrably higher measurements for Bland Chromatin, Normal Nucleoli, Bare Nuclei and Marginal Adhesion than the samples which fall into the Class 2 benign cells."
   ]
  },
  {
   "cell_type": "markdown",
   "id": "fb38b783",
   "metadata": {},
   "source": [
    "### Machine Learning Algorithms - Nearest Neighbours\n",
    "***"
   ]
  },
  {
   "cell_type": "markdown",
   "id": "30f533ed",
   "metadata": {},
   "source": [
    "Nearest Neighbours is one of the most popular machine learning algorithms in data science, in part due to its relative simplicity.  Nearest Neighbours is a supervised learning model and, as its name implies, it works by identifying a specified number of proximate data points (this number is defaulted at 5) and then estimating the label based on this data.  \n",
    "\n",
    "In the below cells, I set up and train an instance of Nearest Neighbours to make predictions based on the Breast Cancer (original) Data Set.  This will be an example of binary classification, where \"Class\" is the target variable."
   ]
  },
  {
   "cell_type": "code",
   "execution_count": 39,
   "id": "ebe59aa3",
   "metadata": {},
   "outputs": [],
   "source": [
    "# drop bare nuclei column as the null values within this column create errors when fitting to classifier\n",
    "df3 = df1.drop(columns=['Bare Nuclei'])"
   ]
  },
  {
   "cell_type": "code",
   "execution_count": 40,
   "id": "5707a15e",
   "metadata": {},
   "outputs": [
    {
     "data": {
      "text/html": [
       "<div>\n",
       "<style scoped>\n",
       "    .dataframe tbody tr th:only-of-type {\n",
       "        vertical-align: middle;\n",
       "    }\n",
       "\n",
       "    .dataframe tbody tr th {\n",
       "        vertical-align: top;\n",
       "    }\n",
       "\n",
       "    .dataframe thead th {\n",
       "        text-align: right;\n",
       "    }\n",
       "</style>\n",
       "<table border=\"1\" class=\"dataframe\">\n",
       "  <thead>\n",
       "    <tr style=\"text-align: right;\">\n",
       "      <th></th>\n",
       "      <th>Clump Thickness</th>\n",
       "      <th>Uniformity of Cell Size</th>\n",
       "      <th>Uniformity of Cell Shape</th>\n",
       "      <th>Marginal Adhesion</th>\n",
       "      <th>Single Epithelial Cell Size</th>\n",
       "      <th>Bland Chromatin</th>\n",
       "      <th>Normal Nucleoli</th>\n",
       "      <th>Mitoses</th>\n",
       "      <th>Class</th>\n",
       "    </tr>\n",
       "  </thead>\n",
       "  <tbody>\n",
       "    <tr>\n",
       "      <th>0</th>\n",
       "      <td>5</td>\n",
       "      <td>1</td>\n",
       "      <td>1</td>\n",
       "      <td>1</td>\n",
       "      <td>2</td>\n",
       "      <td>3</td>\n",
       "      <td>1</td>\n",
       "      <td>1</td>\n",
       "      <td>2</td>\n",
       "    </tr>\n",
       "    <tr>\n",
       "      <th>1</th>\n",
       "      <td>5</td>\n",
       "      <td>4</td>\n",
       "      <td>4</td>\n",
       "      <td>5</td>\n",
       "      <td>7</td>\n",
       "      <td>3</td>\n",
       "      <td>2</td>\n",
       "      <td>1</td>\n",
       "      <td>2</td>\n",
       "    </tr>\n",
       "    <tr>\n",
       "      <th>2</th>\n",
       "      <td>3</td>\n",
       "      <td>1</td>\n",
       "      <td>1</td>\n",
       "      <td>1</td>\n",
       "      <td>2</td>\n",
       "      <td>3</td>\n",
       "      <td>1</td>\n",
       "      <td>1</td>\n",
       "      <td>2</td>\n",
       "    </tr>\n",
       "    <tr>\n",
       "      <th>3</th>\n",
       "      <td>6</td>\n",
       "      <td>8</td>\n",
       "      <td>8</td>\n",
       "      <td>1</td>\n",
       "      <td>3</td>\n",
       "      <td>3</td>\n",
       "      <td>7</td>\n",
       "      <td>1</td>\n",
       "      <td>2</td>\n",
       "    </tr>\n",
       "    <tr>\n",
       "      <th>4</th>\n",
       "      <td>4</td>\n",
       "      <td>1</td>\n",
       "      <td>1</td>\n",
       "      <td>3</td>\n",
       "      <td>2</td>\n",
       "      <td>3</td>\n",
       "      <td>1</td>\n",
       "      <td>1</td>\n",
       "      <td>2</td>\n",
       "    </tr>\n",
       "  </tbody>\n",
       "</table>\n",
       "</div>"
      ],
      "text/plain": [
       "   Clump Thickness  Uniformity of Cell Size  Uniformity of Cell Shape  \\\n",
       "0                5                        1                         1   \n",
       "1                5                        4                         4   \n",
       "2                3                        1                         1   \n",
       "3                6                        8                         8   \n",
       "4                4                        1                         1   \n",
       "\n",
       "   Marginal Adhesion  Single Epithelial Cell Size  Bland Chromatin  \\\n",
       "0                  1                            2                3   \n",
       "1                  5                            7                3   \n",
       "2                  1                            2                3   \n",
       "3                  1                            3                3   \n",
       "4                  3                            2                3   \n",
       "\n",
       "   Normal Nucleoli  Mitoses  Class  \n",
       "0                1        1      2  \n",
       "1                2        1      2  \n",
       "2                1        1      2  \n",
       "3                7        1      2  \n",
       "4                1        1      2  "
      ]
     },
     "execution_count": 40,
     "metadata": {},
     "output_type": "execute_result"
    }
   ],
   "source": [
    "df3.head()"
   ]
  },
  {
   "cell_type": "code",
   "execution_count": null,
   "id": "86de92d0",
   "metadata": {
    "collapsed": true
   },
   "outputs": [],
   "source": [
    "# inputs and outputs\n",
    "inputs = df3[['Clump Thickness', 'Uniformity of Cell Size', 'Uniformity of Cell Shape', 'Marginal Adhesion', 'Single Epithelial Cell Size', 'Bland Chromatin', 'Normal Nucleoli', 'Mitoses']]\n",
    "outputs = df3 ['Class']"
   ]
  },
  {
   "cell_type": "code",
   "execution_count": null,
   "id": "5aaec4ec",
   "metadata": {
    "collapsed": true
   },
   "outputs": [],
   "source": [
    "# instantiate classifier\n",
    "knn = nei.KNeighborsClassifier(n_neighbors=5)"
   ]
  },
  {
   "cell_type": "code",
   "execution_count": null,
   "id": "a13a8cfd",
   "metadata": {
    "collapsed": true
   },
   "outputs": [],
   "source": [
    "# training classifier\n",
    "knn.fit(inputs, outputs)"
   ]
  },
  {
   "cell_type": "code",
   "execution_count": null,
   "id": "5bd18e56",
   "metadata": {
    "collapsed": true
   },
   "outputs": [],
   "source": [
    "# display row 1\n",
    "df3.loc[0]"
   ]
  },
  {
   "cell_type": "code",
   "execution_count": null,
   "id": "b16799cd",
   "metadata": {
    "collapsed": true
   },
   "outputs": [],
   "source": [
    "# verify if classifier works by entering data for row 1\n",
    "knn.predict([[5, 1, 1, 1, 2, 3, 1, 1]])"
   ]
  },
  {
   "cell_type": "code",
   "execution_count": null,
   "id": "e46724d0",
   "metadata": {
    "collapsed": true
   },
   "outputs": [],
   "source": [
    "# check accuracy\n",
    "(knn.predict(inputs)==outputs).sum()"
   ]
  },
  {
   "cell_type": "markdown",
   "id": "ed5d8059",
   "metadata": {},
   "source": [
    "As we can see from the above, 675 out of 699 predictions were accurate, a success rate of 96.5%."
   ]
  },
  {
   "cell_type": "code",
   "execution_count": null,
   "id": "c4039206",
   "metadata": {
    "collapsed": true
   },
   "outputs": [],
   "source": [
    "# import train_test_split function and split dataset into training set and test set\n",
    "inputs_train, inputs_test, outputs_train, outputs_test = mod.train_test_split(inputs, outputs, test_size=0.33)"
   ]
  },
  {
   "cell_type": "code",
   "execution_count": null,
   "id": "e9c4c4d1",
   "metadata": {
    "collapsed": true
   },
   "outputs": [],
   "source": [
    "# check if length is one-third of data set rows(i.e 231) as specified above \n",
    "outputs_test"
   ]
  },
  {
   "cell_type": "code",
   "execution_count": null,
   "id": "a18bf614",
   "metadata": {
    "collapsed": true
   },
   "outputs": [],
   "source": [
    "# re-initialise classifier\n",
    "knn = nei.KNeighborsClassifier(n_neighbors=5)"
   ]
  },
  {
   "cell_type": "code",
   "execution_count": null,
   "id": "f65072e9",
   "metadata": {
    "collapsed": true
   },
   "outputs": [],
   "source": [
    "# retraining classifier, this time with inputs_train and outputs_train instead of full data set\n",
    "knn.fit(inputs_train, outputs_train)"
   ]
  },
  {
   "cell_type": "code",
   "execution_count": null,
   "id": "0e426bd7",
   "metadata": {
    "collapsed": true
   },
   "outputs": [],
   "source": [
    "# execute predict\n",
    "(knn.predict(inputs_test) == outputs_test).sum()"
   ]
  },
  {
   "cell_type": "markdown",
   "id": "3fc33328",
   "metadata": {},
   "source": [
    "As we can see, 223 out of 231 predictions using the Nearest Neighbours classifier were accurate, a percentage of 96.5%. This high percentage illustrates the effectiveness of Nearest Neighbours as a binary classifier, particularly when dealing with relatively small data sets."
   ]
  },
  {
   "cell_type": "markdown",
   "id": "fd6d1c98",
   "metadata": {},
   "source": [
    "### Machine Learning Algorithms - Support Vector Machines\n",
    "***"
   ]
  },
  {
   "cell_type": "markdown",
   "id": "12b76d72",
   "metadata": {},
   "source": [
    "Support vector machines (SVM) are a popular and effective set of machine learning algorithms, offering a high degree of accuracy and fast predictions. SVM is highly verstaile and can be used for classification, regression and outliers detection. It's various applications include face detection, intrusion detection and classification of emails. The idea behind SVM is based on the concept of \"decision planes\", which define decision boundaries. \n",
    "\n",
    "In the below cells, I set up and train an instance of SVM to make predictions based on the Breast Cancer (original) Data Set. Again, this will be an example of binary classification where \"Class\" is the target variable."
   ]
  },
  {
   "cell_type": "code",
   "execution_count": null,
   "id": "b1478274",
   "metadata": {
    "collapsed": true
   },
   "outputs": [],
   "source": [
    "from sklearn import svm"
   ]
  },
  {
   "cell_type": "code",
   "execution_count": null,
   "id": "c2c7bc86",
   "metadata": {
    "collapsed": true
   },
   "outputs": [],
   "source": [
    "# inputs and outputs\n",
    "inputs = df3[['Clump Thickness', 'Uniformity of Cell Size', 'Uniformity of Cell Shape', 'Marginal Adhesion', 'Single Epithelial Cell Size', 'Bland Chromatin', 'Normal Nucleoli', 'Mitoses']]\n",
    "outputs = df3 ['Class']"
   ]
  },
  {
   "cell_type": "code",
   "execution_count": null,
   "id": "2a160f8a",
   "metadata": {
    "collapsed": true
   },
   "outputs": [],
   "source": [
    "# create SVM Classifier (clf = classifier)\n",
    "clf = svm.SVC(kernel='linear')"
   ]
  },
  {
   "cell_type": "code",
   "execution_count": null,
   "id": "e5933bf1",
   "metadata": {
    "collapsed": true
   },
   "outputs": [],
   "source": [
    "#Train classifier using training stes\n",
    "clf.fit(inputs, outputs)"
   ]
  },
  {
   "cell_type": "code",
   "execution_count": null,
   "id": "599e0dee",
   "metadata": {
    "collapsed": true
   },
   "outputs": [],
   "source": [
    "# verify if classifier works by entering data for row 1\n",
    "clf.predict([[5, 1, 1, 1, 2, 3, 1, 1]])"
   ]
  },
  {
   "cell_type": "code",
   "execution_count": null,
   "id": "456699db",
   "metadata": {
    "collapsed": true
   },
   "outputs": [],
   "source": [
    "# check accuracy\n",
    "(clf.predict(inputs)==outputs).sum()"
   ]
  },
  {
   "cell_type": "markdown",
   "id": "f85bd080",
   "metadata": {},
   "source": [
    "As we can see from the above, 673 out of 699 predictions were accurate, a success rate of 96.2%."
   ]
  },
  {
   "cell_type": "code",
   "execution_count": null,
   "id": "d3788aab",
   "metadata": {
    "collapsed": true
   },
   "outputs": [],
   "source": [
    "# import train_test_split function and split dataset into training set and test set\n",
    "inputs_train, inputs_test, outputs_train, outputs_test = train_test_split(inputs, outputs, test_size=0.33) "
   ]
  },
  {
   "cell_type": "code",
   "execution_count": null,
   "id": "6f82504d",
   "metadata": {
    "collapsed": true
   },
   "outputs": [],
   "source": [
    "# check if length is one-third of data set rows(i.e 231) as specified above \n",
    "outputs_test"
   ]
  },
  {
   "cell_type": "code",
   "execution_count": null,
   "id": "aa50cae2",
   "metadata": {
    "collapsed": true
   },
   "outputs": [],
   "source": [
    "# re-initialise classifier\n",
    "clf = svm.SVC(kernel='linear')"
   ]
  },
  {
   "cell_type": "code",
   "execution_count": null,
   "id": "85ec4976",
   "metadata": {
    "collapsed": true
   },
   "outputs": [],
   "source": [
    "# retraining classifier, this time with inputs_train and outputs_train instead of full data set\n",
    "clf.fit(inputs_train, outputs_train)"
   ]
  },
  {
   "cell_type": "code",
   "execution_count": null,
   "id": "1c2341ef",
   "metadata": {
    "collapsed": true
   },
   "outputs": [],
   "source": [
    "# execute predict\n",
    "(clf.predict(inputs_test) == outputs_test).sum()"
   ]
  },
  {
   "cell_type": "markdown",
   "id": "34084ee9",
   "metadata": {},
   "source": [
    "As shown above, 221 out of 231 predicts using Support Vector Machines were accurate, a percentage of 95.6%.  This is a slightly lower rate of success than calculated by the Nearest Neighbours algorithm."
   ]
  },
  {
   "cell_type": "markdown",
   "id": "a86eead4",
   "metadata": {},
   "source": [
    "### Machine Learning Algorithms - Naive Bayes\n",
    "***"
   ]
  },
  {
   "cell_type": "markdown",
   "id": "fd0f55c6",
   "metadata": {},
   "source": [
    "Naive Bayes is a classification algorithm based on Bayes Theorem. It is one of the simplest supervised learning techniques, often used in spam filtering and text classification, and is notable for its speed and accuracy. \n",
    "\n",
    "In the below cells, I set up and train an instance of Naive Bayes to make predictions based on the Breast Cancer (original) Data Set. Again, this will be an example of binary classification where \"Class\" is the target variable."
   ]
  },
  {
   "cell_type": "code",
   "execution_count": null,
   "id": "da5dd054",
   "metadata": {
    "collapsed": true
   },
   "outputs": [],
   "source": [
    "# import Gaussian Naive Bayes model\n",
    "from sklearn.naive_bayes import GaussianNB"
   ]
  },
  {
   "cell_type": "code",
   "execution_count": null,
   "id": "30a36be5",
   "metadata": {
    "collapsed": true
   },
   "outputs": [],
   "source": [
    "# inputs and outputs\n",
    "inputs = df3[['Clump Thickness', 'Uniformity of Cell Size', 'Uniformity of Cell Shape', 'Marginal Adhesion', 'Single Epithelial Cell Size', 'Bland Chromatin', 'Normal Nucleoli', 'Mitoses']]\n",
    "outputs = df3 ['Class']"
   ]
  },
  {
   "cell_type": "code",
   "execution_count": null,
   "id": "ae3fb917",
   "metadata": {
    "collapsed": true
   },
   "outputs": [],
   "source": [
    "# Initialise Gaussian Classifier\n",
    "nb = GaussianNB()"
   ]
  },
  {
   "cell_type": "code",
   "execution_count": null,
   "id": "3c59f67d",
   "metadata": {
    "collapsed": true
   },
   "outputs": [],
   "source": [
    "# Train the model using the training sets\n",
    "nb.fit(inputs, outputs)"
   ]
  },
  {
   "cell_type": "code",
   "execution_count": null,
   "id": "17607561",
   "metadata": {
    "collapsed": true
   },
   "outputs": [],
   "source": [
    "# verify if classifier works by entering data for row 1\n",
    "nb.predict([[5, 1, 1, 1, 2, 3, 1, 1]])"
   ]
  },
  {
   "cell_type": "code",
   "execution_count": null,
   "id": "ba1e65cf",
   "metadata": {
    "collapsed": true
   },
   "outputs": [],
   "source": [
    "# check accuracy\n",
    "(nb.predict(inputs)==outputs).sum()"
   ]
  },
  {
   "cell_type": "markdown",
   "id": "2c6854ec",
   "metadata": {},
   "source": [
    "As we can from the above test, 668 out of 699 predictions were accurate, a success rate of 95.5%."
   ]
  },
  {
   "cell_type": "code",
   "execution_count": null,
   "id": "1a600b77",
   "metadata": {
    "collapsed": true
   },
   "outputs": [],
   "source": [
    "# import train_test_split function and split dataset into training set and test set\n",
    "inputs_train, inputs_test, outputs_train, outputs_test = train_test_split(inputs, outputs, test_size=0.33)"
   ]
  },
  {
   "cell_type": "code",
   "execution_count": null,
   "id": "6d4fb975",
   "metadata": {
    "collapsed": true
   },
   "outputs": [],
   "source": [
    "# check if length is one-third of data set rows(i.e 231) as specified above \n",
    "outputs_test"
   ]
  },
  {
   "cell_type": "code",
   "execution_count": null,
   "id": "1efebd1d",
   "metadata": {
    "collapsed": true
   },
   "outputs": [],
   "source": [
    "# re-initialise Gaussian Classifier\n",
    "nb = GaussianNB()"
   ]
  },
  {
   "cell_type": "code",
   "execution_count": null,
   "id": "d356f93b",
   "metadata": {
    "collapsed": true
   },
   "outputs": [],
   "source": [
    "# retraining classifier, this time with inputs_train and outputs_train instead of full data set\n",
    "nb.fit(inputs_train, outputs_train)"
   ]
  },
  {
   "cell_type": "code",
   "execution_count": null,
   "id": "e1b51785",
   "metadata": {
    "collapsed": true
   },
   "outputs": [],
   "source": [
    "# execute predict\n",
    "(nb.predict(inputs_test) == outputs_test).sum()"
   ]
  },
  {
   "cell_type": "markdown",
   "id": "93ac1ddd",
   "metadata": {},
   "source": [
    "As shown above, 222 out of 231 predicts using Naive Bayes were accurate, a percentage of 96.1%.  This is a slightly lower rate of success than calculated by the Nearest Neighbours algorithm, but a slightly higher success rate than that of Support Vector Machines.  The differences between the results of the three classifiers were very marginal, however; only 1% separates the accuracy of Nearest Neighbours (most accurate) and Support Vector Machines (least accurate)."
   ]
  },
  {
   "cell_type": "markdown",
   "id": "c0402286",
   "metadata": {},
   "source": [
    "#### Visualising accuracy rate of classifiers"
   ]
  },
  {
   "cell_type": "markdown",
   "id": "8f4d025c",
   "metadata": {},
   "source": [
    "A bar chart can display the relative accuracy achieved by each of the classifiers (see below).  As we can see, KNN Nearest Neighbours proved to be the most effective classifier in predicting the class of each sample."
   ]
  },
  {
   "cell_type": "code",
   "execution_count": 9,
   "id": "3d96a1db",
   "metadata": {},
   "outputs": [
    {
     "data": {
      "image/png": "[encoded data removed]",
      "text/plain": [
       "<Figure size 432x288 with 1 Axes>"
      ]
     },
     "metadata": {
      "needs_background": "light"
     },
     "output_type": "display_data"
    }
   ],
   "source": [
    "# Create bar chart comparing rate of accuracy of each of the classifiers: KNN, SVM and Naive Bayes.\n",
    "classifier = ['KNN', 'SVM', 'Naive Bayes']\n",
    "accuracy = [96.5, 95.6, 96.1]\n",
    "plt.bar(classifier, accuracy)\n",
    "plt.title('Accuracy of classifiers')\n",
    "plt.xlabel('Classifier')\n",
    "plt.ylabel('Percentage accuracy')\n",
    "plt.ylim(94, 97) # define limits of y axis\n",
    "plt.show()"
   ]
  },
  {
   "cell_type": "markdown",
   "id": "e6c7335f",
   "metadata": {},
   "source": [
    "### Literature Review"
   ]
  },
  {
   "cell_type": "markdown",
   "id": "7ee2e1c6",
   "metadata": {},
   "source": [
    "#### 1."
   ]
  },
  {
   "cell_type": "markdown",
   "id": "5b0bf2a6",
   "metadata": {},
   "source": [
    "In this [paper](https://www.journalbinet.com/uploads/2/1/0/0/21005390/67.02.09.2020_analysis_of_wisconsin_breast_cancer_original_dataset_using_data_mining_and_machine_learning_algorithms_for_breast_cancer_prediction.pdf) by a team at Pabna University of Science and Technology in Bangladesh, a range of algorithms (Naïve Bayes, Support Vector Machines, Multilayer Perceptron, J48 and Random Forest) are used to classify data extracted from the Breast Cancer (original) Wisconsin Data Set.  Since I have used Naive Bayes and SVM in my investigation, it will be useful to compare my results with those of the team from Pabna University."
   ]
  },
  {
   "attachments": {
    "svm.png": {
     "image/png": "[encoded data removed]"
    }
   },
   "cell_type": "markdown",
   "id": "8b225395",
   "metadata": {},
   "source": [
    "![svm.png](attachment:svm.png)"
   ]
  },
  {
   "cell_type": "markdown",
   "id": "68446a7d",
   "metadata": {},
   "source": [
    "My deployment of Naive Bayes resulted in a rate of accuracy of 96.1%.  In the Pabna University paper, we see from their results above that their results were marginally better, with a 97.2% rate of accuracy. Indeed, Naive Bayes outperformed all of the other algorithms used by the Pabna University team.\n",
    "\n",
    "Another algorithm used by the team at Pabna was Sequential minimal optimization (SMO), an instance of Support Vector Machines. In the above table, we see that SMO scored an accuracy rating of 96.1%.  This is very close to the score of 95.6% from my own usage of SVM."
   ]
  },
  {
   "cell_type": "markdown",
   "id": "a06f898c",
   "metadata": {},
   "source": [
    "#### *Conclusion:*  \n",
    "\n",
    "Looking at the methodology used by the Pabna team helps to explain why their results vary from my own. As shown above, I dropped the **\"Bare nuclei\"** column from my data set, as the null values within this column created errors when I attempted to fit a classifier.  However, the Pabna team included this column, and also dropped the **\"Single Epithelial Cell Size\"** column; \"we removed attribute named as ‘Single Epithelial Cell Size’ and came to better accuracy and overall performance.\"\n",
    "\n",
    "As a result, the data sets investigated differed slightly before any classification took place.  "
   ]
  },
  {
   "cell_type": "markdown",
   "id": "b4689c09",
   "metadata": {},
   "source": [
    "#### 2."
   ]
  },
  {
   "cell_type": "markdown",
   "id": "5de139c9",
   "metadata": {},
   "source": [
    "In this [study](https://www.researchgate.net/publication/336727928_Effective_K-nearest_neighbor_classifications_for_Wisconsin_breast_cancer_data_sets) by a team at National Taiwan University of Science and Technology, the KNN Nearest Neighbours algorithm was used to make predictions based on the data in the Wisconsin (Original) data set. \n",
    "\n",
    "The team focused entirely on applying the KNN algorithm in this study and so there is a great degree of insight to be gleaned on the effectiveness of the Nearest Neighbours classifier.  The below table clearly illustrates the depth of mathematical complexity in the team's calculations. Since KNN runs on the concept of distance between data points, or \"neighbours\", the team uses a variety of distance functions (Minkowski, Euclidean, Manhattan et cetera) to give a more complete picture of the data.  "
   ]
  },
  {
   "attachments": {
    "knn.png": {
     "image/png": "[encoded data removed]"
    }
   },
   "cell_type": "markdown",
   "id": "e447b485",
   "metadata": {},
   "source": [
    "![knn.png](attachment:knn.png)"
   ]
  },
  {
   "cell_type": "markdown",
   "id": "4357b826",
   "metadata": {},
   "source": [
    "Each of the various distance functions have different trainning and predicting times and, as can be seen in the above table, vary widely in terms of their classification accuracy rates.  The Correlation function scored only 90.85%, while the Canberra fucntion scored highest with 96.57%."
   ]
  },
  {
   "cell_type": "markdown",
   "id": "65b792d9",
   "metadata": {},
   "source": [
    "#### *Conclusion:*\n",
    "\n",
    "The study by the Taiwan University team illustrates the complexity of the mathematics behind even this simplest of machine learning algorithms, KNN Nearest Neighbours.  The table above clearly shows the variety of success rates when deploying a range of different distance functions, but it's interesting that the Euclidean function scored an accuracy rate of 95.42%. The Euclidean function is the default KNN distance function, and hence is the one used in my investigation of the same data set detailed earlier. When I ran the KNN algorithm, it scored a success rate of 96.5%, quite close to the score measured by the team at National Taiwan University.\n"
   ]
  },
  {
   "cell_type": "markdown",
   "id": "3335bcb3",
   "metadata": {},
   "source": [
    "#### 3."
   ]
  },
  {
   "cell_type": "markdown",
   "id": "4f66c65a",
   "metadata": {},
   "source": [
    "In this [academic study](https://gssrr.org/index.php/JournalOfBasicAndApplied/article/view/12300) by Sulyman Age Abdulkareema\n",
    "and Zainab Olorunbukademi Abdulkareem, impressive results were yielded by using an alternative set of classifiers on the data in the Wisconsin (Original) set. As we can see from the illustration below, the Random Forest (RF) and eXtreme Gradient Boosting (XGBoost) classifiers were deployed in this study. Random Forest is a supervised learning algorithm which can be used both for classification and regression, is based on the idea of decision trees which form a \"forest\".   eXtreme Gradient Boosting (XGBoost) is renowned for its speed as well as being a particularly effective classifier when working with structured data."
   ]
  },
  {
   "attachments": {
    "2023-01-11%2023_28_34-monther,+12300-Article+Text-36825-1-6-20210211.pdf.png": {
     "image/png": "[encoded data removed]"
    }
   },
   "cell_type": "markdown",
   "id": "ecdc7096",
   "metadata": {},
   "source": [
    "![2023-01-11%2023_28_34-monther,+12300-Article+Text-36825-1-6-20210211.pdf.png](attachment:2023-01-11%2023_28_34-monther,+12300-Article+Text-36825-1-6-20210211.pdf.png)"
   ]
  },
  {
   "cell_type": "markdown",
   "id": "22794f52",
   "metadata": {},
   "source": [
    "#### *Conclusion:* \n",
    "Both the Random Forest (RF) and eXtreme Gradient Boosting (XGBoost) classifiers scored notably higher success rates than any of the algorithms used in the studies discussed above.  This demonstrates that some machine learning techniques are more suited to fit particular data sets than others."
   ]
  },
  {
   "cell_type": "markdown",
   "id": "daa72892",
   "metadata": {},
   "source": [
    "### Literature Review - Credits"
   ]
  },
  {
   "cell_type": "markdown",
   "id": "2d1a27fe",
   "metadata": {},
   "source": [
    "1. www.journalbinet.com/uploads/2/1/0/0/21005390/67.02.09.2020_analysis_of_wisconsin_breast_cancer_original_dataset_using_data_mining_and_machine_learning_algorithms_for_breast_cancer_prediction.pdf"
   ]
  },
  {
   "cell_type": "markdown",
   "id": "16c17fd8",
   "metadata": {},
   "source": [
    "2. \n",
    "https://www.researchgate.net/publication/336727928_Effective_K-nearest_neighbor_classifications_for_Wisconsin_breast_cancer_data_sets"
   ]
  },
  {
   "cell_type": "markdown",
   "id": "63d03c2e",
   "metadata": {},
   "source": [
    "\n",
    "3.  https://gssrr.org/index.php/JournalOfBasicAndApplied/article/view/12300"
   ]
  },
  {
   "cell_type": "markdown",
   "id": "64012135",
   "metadata": {},
   "source": [
    "### References\n",
    "***"
   ]
  },
  {
   "cell_type": "markdown",
   "id": "730ebcbf",
   "metadata": {},
   "source": [
    "Wolberg, William H. and Mangasarian O.L: \"Multisurface method of pattern separation for medical diagnosis applied to breast cytology\", Proceedings of the National Academy of Sciences, U.S.A., Volume 87, December 1990, pp 9193-9196 Available at https://archive.ics.uci.edu/ml/datasets/breast+cancer+wisconsin+(original) (Accessed: January 8, 2023).\n",
    "\n",
    "Unknown Author (no date). \"Machine Learning\". Available at: https://www.w3schools.com/python/python_ml_getting_started.asp (Accessed: January 4, 2023).\n",
    "\n",
    "Lisboa, Mario.  \"Breast Cancer Wisconsin (Original) Data Set\" (2022).\" Available at: https://www.kaggle.com/datasets/mariolisboa/breast-cancer-wisconsin-original-data-set (Accessed: January 5, 2023).\n",
    "\n",
    "Naviani, Avinash. \"KNN Classification Tutorial using Scikit-learn\" (2018) Available at: https://www.datacamp.com/tutorial/k-nearest-neighbor-classification-scikit-learn (Accessed: January 8, 2023). \n",
    "\n",
    "Naviani, Avinash.  \"Support Vector Machines with Scikit-learn Tutorial\" (2019) Available at: https://www.datacamp.com/tutorial/svm-classification-scikit-learn-python (Accessed: January 8, 2023).\n",
    "\n",
    "Naviani, Avinash.\"Naive Bayes Classification Tutorial using Scikit-learn\".  (2018)  Available at: https://www.datacamp.com/tutorial/naive-bayes-scikit-learn  (Accessed: January 6, 2023)\n",
    "\n",
    "Naviani, Avinash \"Understanding Random Forests Classifiers in Python Tutorial\" (2018) Available at: https://www.datacamp.com/tutorial/random-forests-classifier-python (Accessed: January 8, 2023)\n",
    "\n",
    "Sharma, Mohit.  \"Data Visualization using Seaborn\" 2018. Available at: https://towardsdatascience.com/data-visualization-using-seaborn-fc24db95a850  (Accessed: January 5, 2023)\n",
    "\n",
    "Pathak, Manish.  \"Using XGBoost in Python Tutorial\"  2019.  Available at:  https://www.datacamp.com/tutorial/xgboost-in-python (Accessed: January 6, 2023)"
   ]
  },
  {
   "cell_type": "markdown",
   "id": "8db7d0b4",
   "metadata": {},
   "source": [
    "### End\n",
    "***"
   ]
  },
  {
   "cell_type": "code",
   "execution_count": null,
   "id": "780b88a5",
   "metadata": {
    "collapsed": true
   },
   "outputs": [],
   "source": []
  }
 ],
 "metadata": {
  "kernelspec": {
   "display_name": "Python 3 (ipykernel)",
   "language": "python",
   "name": "python3"
  },
  "language_info": {
   "codemirror_mode": {
    "name": "ipython",
    "version": 3
   },
   "file_extension": ".py",
   "mimetype": "text/x-python",
   "name": "python",
   "nbconvert_exporter": "python",
   "pygments_lexer": "ipython3",
   "version": "3.9.12"
  }
 },
 "nbformat": 4,
 "nbformat_minor": 5
}
